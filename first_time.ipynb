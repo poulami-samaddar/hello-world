{
  "nbformat": 4,
  "nbformat_minor": 0,
  "metadata": {
    "colab": {
      "name": "first_time.ipynb",
      "provenance": [],
      "authorship_tag": "ABX9TyO63Tv/uBwkJqK9F7s7lVCT",
      "include_colab_link": true
    },
    "kernelspec": {
      "name": "python3",
      "display_name": "Python 3"
    }
  },
  "cells": [
    {
      "cell_type": "markdown",
      "metadata": {
        "id": "view-in-github",
        "colab_type": "text"
      },
      "source": [
        "<a href=\"https://colab.research.google.com/github/poulami-samaddar/hello-world/blob/master/first_time.ipynb\" target=\"_parent\"><img src=\"https://colab.research.google.com/assets/colab-badge.svg\" alt=\"Open In Colab\"/></a>"
      ]
    },
    {
      "cell_type": "code",
      "metadata": {
        "id": "r-TJaFqJyQiV"
      },
      "source": [
        "import pandas as pd\n",
        "import numpy as np"
      ],
      "execution_count": 1,
      "outputs": []
    },
    {
      "cell_type": "code",
      "metadata": {
        "id": "FH8psSS_yd69",
        "outputId": "f7e219a7-6499-4b66-e756-e675f1cc4897",
        "colab": {
          "resources": {
            "http://localhost:8080/nbextensions/google.colab/files.js": {
              "data": "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",
              "ok": true,
              "headers": [
                [
                  "content-type",
                  "application/javascript"
                ]
              ],
              "status": 200,
              "status_text": ""
            }
          },
          "base_uri": "https://localhost:8080/",
          "height": 72
        }
      },
      "source": [
        "from google.colab import files\n",
        "uploaded = files.upload()"
      ],
      "execution_count": 6,
      "outputs": [
        {
          "output_type": "display_data",
          "data": {
            "text/html": [
              "\n",
              "     <input type=\"file\" id=\"files-bdf5e3a6-5f30-459b-a11a-db61548df6fe\" name=\"files[]\" multiple disabled\n",
              "        style=\"border:none\" />\n",
              "     <output id=\"result-bdf5e3a6-5f30-459b-a11a-db61548df6fe\">\n",
              "      Upload widget is only available when the cell has been executed in the\n",
              "      current browser session. Please rerun this cell to enable.\n",
              "      </output>\n",
              "      <script src=\"/nbextensions/google.colab/files.js\"></script> "
            ],
            "text/plain": [
              "<IPython.core.display.HTML object>"
            ]
          },
          "metadata": {
            "tags": []
          }
        },
        {
          "output_type": "stream",
          "text": [
            "Saving cancer_classification.csv to cancer_classification.csv\n"
          ],
          "name": "stdout"
        }
      ]
    },
    {
      "cell_type": "code",
      "metadata": {
        "id": "ruOGMch7yeQb"
      },
      "source": [
        "import io\n",
        "df = pd.read_csv(io.BytesIO(uploaded['cancer_classification.csv']))\n",
        "# Dataset is now stored in a Pandas Dataframe"
      ],
      "execution_count": 9,
      "outputs": []
    },
    {
      "cell_type": "code",
      "metadata": {
        "id": "breTD9NVyeVm",
        "outputId": "ee25e838-175b-4a1b-b08a-5df3083dd45b",
        "colab": {
          "base_uri": "https://localhost:8080/",
          "height": 165
        }
      },
      "source": [
        "df.head(2)"
      ],
      "execution_count": 10,
      "outputs": [
        {
          "output_type": "execute_result",
          "data": {
            "text/html": [
              "<div>\n",
              "<style scoped>\n",
              "    .dataframe tbody tr th:only-of-type {\n",
              "        vertical-align: middle;\n",
              "    }\n",
              "\n",
              "    .dataframe tbody tr th {\n",
              "        vertical-align: top;\n",
              "    }\n",
              "\n",
              "    .dataframe thead th {\n",
              "        text-align: right;\n",
              "    }\n",
              "</style>\n",
              "<table border=\"1\" class=\"dataframe\">\n",
              "  <thead>\n",
              "    <tr style=\"text-align: right;\">\n",
              "      <th></th>\n",
              "      <th>mean radius</th>\n",
              "      <th>mean texture</th>\n",
              "      <th>mean perimeter</th>\n",
              "      <th>mean area</th>\n",
              "      <th>mean smoothness</th>\n",
              "      <th>mean compactness</th>\n",
              "      <th>mean concavity</th>\n",
              "      <th>mean concave points</th>\n",
              "      <th>mean symmetry</th>\n",
              "      <th>mean fractal dimension</th>\n",
              "      <th>radius error</th>\n",
              "      <th>texture error</th>\n",
              "      <th>perimeter error</th>\n",
              "      <th>area error</th>\n",
              "      <th>smoothness error</th>\n",
              "      <th>compactness error</th>\n",
              "      <th>concavity error</th>\n",
              "      <th>concave points error</th>\n",
              "      <th>symmetry error</th>\n",
              "      <th>fractal dimension error</th>\n",
              "      <th>worst radius</th>\n",
              "      <th>worst texture</th>\n",
              "      <th>worst perimeter</th>\n",
              "      <th>worst area</th>\n",
              "      <th>worst smoothness</th>\n",
              "      <th>worst compactness</th>\n",
              "      <th>worst concavity</th>\n",
              "      <th>worst concave points</th>\n",
              "      <th>worst symmetry</th>\n",
              "      <th>worst fractal dimension</th>\n",
              "      <th>benign_0__mal_1</th>\n",
              "    </tr>\n",
              "  </thead>\n",
              "  <tbody>\n",
              "    <tr>\n",
              "      <th>0</th>\n",
              "      <td>17.99</td>\n",
              "      <td>10.38</td>\n",
              "      <td>122.8</td>\n",
              "      <td>1001.0</td>\n",
              "      <td>0.11840</td>\n",
              "      <td>0.27760</td>\n",
              "      <td>0.3001</td>\n",
              "      <td>0.14710</td>\n",
              "      <td>0.2419</td>\n",
              "      <td>0.07871</td>\n",
              "      <td>1.0950</td>\n",
              "      <td>0.9053</td>\n",
              "      <td>8.589</td>\n",
              "      <td>153.40</td>\n",
              "      <td>0.006399</td>\n",
              "      <td>0.04904</td>\n",
              "      <td>0.05373</td>\n",
              "      <td>0.01587</td>\n",
              "      <td>0.03003</td>\n",
              "      <td>0.006193</td>\n",
              "      <td>25.38</td>\n",
              "      <td>17.33</td>\n",
              "      <td>184.6</td>\n",
              "      <td>2019.0</td>\n",
              "      <td>0.1622</td>\n",
              "      <td>0.6656</td>\n",
              "      <td>0.7119</td>\n",
              "      <td>0.2654</td>\n",
              "      <td>0.4601</td>\n",
              "      <td>0.11890</td>\n",
              "      <td>0</td>\n",
              "    </tr>\n",
              "    <tr>\n",
              "      <th>1</th>\n",
              "      <td>20.57</td>\n",
              "      <td>17.77</td>\n",
              "      <td>132.9</td>\n",
              "      <td>1326.0</td>\n",
              "      <td>0.08474</td>\n",
              "      <td>0.07864</td>\n",
              "      <td>0.0869</td>\n",
              "      <td>0.07017</td>\n",
              "      <td>0.1812</td>\n",
              "      <td>0.05667</td>\n",
              "      <td>0.5435</td>\n",
              "      <td>0.7339</td>\n",
              "      <td>3.398</td>\n",
              "      <td>74.08</td>\n",
              "      <td>0.005225</td>\n",
              "      <td>0.01308</td>\n",
              "      <td>0.01860</td>\n",
              "      <td>0.01340</td>\n",
              "      <td>0.01389</td>\n",
              "      <td>0.003532</td>\n",
              "      <td>24.99</td>\n",
              "      <td>23.41</td>\n",
              "      <td>158.8</td>\n",
              "      <td>1956.0</td>\n",
              "      <td>0.1238</td>\n",
              "      <td>0.1866</td>\n",
              "      <td>0.2416</td>\n",
              "      <td>0.1860</td>\n",
              "      <td>0.2750</td>\n",
              "      <td>0.08902</td>\n",
              "      <td>0</td>\n",
              "    </tr>\n",
              "  </tbody>\n",
              "</table>\n",
              "</div>"
            ],
            "text/plain": [
              "   mean radius  mean texture  ...  worst fractal dimension  benign_0__mal_1\n",
              "0        17.99         10.38  ...                  0.11890                0\n",
              "1        20.57         17.77  ...                  0.08902                0\n",
              "\n",
              "[2 rows x 31 columns]"
            ]
          },
          "metadata": {
            "tags": []
          },
          "execution_count": 10
        }
      ]
    },
    {
      "cell_type": "code",
      "metadata": {
        "id": "sBOmS72myeY1"
      },
      "source": [
        "X = df.drop('benign_0__mal_1',axis=1).values\n",
        "y = df['benign_0__mal_1'].values"
      ],
      "execution_count": 11,
      "outputs": []
    },
    {
      "cell_type": "code",
      "metadata": {
        "id": "1yK76HSiyeeU"
      },
      "source": [
        "from sklearn.model_selection import train_test_split"
      ],
      "execution_count": 12,
      "outputs": []
    },
    {
      "cell_type": "code",
      "metadata": {
        "id": "ntlKABdnyei5"
      },
      "source": [
        "X_train, X_test, y_train, y_test = train_test_split(X,y,test_size=0.25,random_state=101)"
      ],
      "execution_count": 13,
      "outputs": []
    },
    {
      "cell_type": "code",
      "metadata": {
        "id": "-B5Z46lxyely"
      },
      "source": [
        "from sklearn.preprocessing import MinMaxScaler"
      ],
      "execution_count": 14,
      "outputs": []
    },
    {
      "cell_type": "code",
      "metadata": {
        "id": "RNUnOpPPyeot"
      },
      "source": [
        "scaler = MinMaxScaler()"
      ],
      "execution_count": 15,
      "outputs": []
    },
    {
      "cell_type": "code",
      "metadata": {
        "id": "pZ-QWGOWyehJ",
        "outputId": "fce47fc2-97be-419c-b4be-07f93faf394e",
        "colab": {
          "base_uri": "https://localhost:8080/",
          "height": 34
        }
      },
      "source": [
        "scaler.fit(X_train)"
      ],
      "execution_count": 16,
      "outputs": [
        {
          "output_type": "execute_result",
          "data": {
            "text/plain": [
              "MinMaxScaler(copy=True, feature_range=(0, 1))"
            ]
          },
          "metadata": {
            "tags": []
          },
          "execution_count": 16
        }
      ]
    },
    {
      "cell_type": "code",
      "metadata": {
        "id": "oVLm2aUKyecB"
      },
      "source": [
        "X_train = scaler.transform(X_train)\n",
        "X_test = scaler.transform(X_test)"
      ],
      "execution_count": 17,
      "outputs": []
    },
    {
      "cell_type": "code",
      "metadata": {
        "id": "9tjFAEEJ3KJW"
      },
      "source": [
        "import tensorflow as tf\n",
        "from tensorflow.keras.models import Sequential\n",
        "from tensorflow.keras.layers import Dense, Activation,Dropout"
      ],
      "execution_count": 18,
      "outputs": []
    },
    {
      "cell_type": "code",
      "metadata": {
        "id": "RuLMx3p-3KXe"
      },
      "source": [
        "from tensorflow.keras.callbacks import EarlyStopping,TensorBoard"
      ],
      "execution_count": 39,
      "outputs": []
    },
    {
      "cell_type": "code",
      "metadata": {
        "id": "kbwrU4B13KkQ"
      },
      "source": [
        "early_stop = EarlyStopping(monitor='val_loss', mode='min', verbose=1, patience=25)"
      ],
      "execution_count": 20,
      "outputs": []
    },
    {
      "cell_type": "code",
      "metadata": {
        "id": "FCMmXg6X3Kub",
        "outputId": "a717db25-5cbc-4288-a461-aa3003ecc3bf",
        "colab": {
          "base_uri": "https://localhost:8080/",
          "height": 35
        }
      },
      "source": [
        "pwd"
      ],
      "execution_count": 21,
      "outputs": [
        {
          "output_type": "execute_result",
          "data": {
            "application/vnd.google.colaboratory.intrinsic+json": {
              "type": "string"
            },
            "text/plain": [
              "'/content'"
            ]
          },
          "metadata": {
            "tags": []
          },
          "execution_count": 21
        }
      ]
    },
    {
      "cell_type": "code",
      "metadata": {
        "id": "QhiHWoIu3K0X"
      },
      "source": [
        "from datetime import datetime"
      ],
      "execution_count": 22,
      "outputs": []
    },
    {
      "cell_type": "code",
      "metadata": {
        "id": "HkPLZPov3K3Q"
      },
      "source": [
        "log_directory = 'logs\\\\fit'\n",
        "# timestamp = datetime.now().strftime(\"%Y-%m-%d--%H%M\")\n",
        "# log_directory = log_directory + '\\\\' + timestamp\n"
      ],
      "execution_count": 32,
      "outputs": []
    },
    {
      "cell_type": "code",
      "metadata": {
        "id": "iVD2gMTI3K6f"
      },
      "source": [
        "board = TensorBoard(log_dir=log_directory,histogram_freq=1,\n",
        "    write_graph=True,\n",
        "    write_images=True,\n",
        "    update_freq='epoch',\n",
        "    profile_batch=2,\n",
        "    embeddings_freq=1)"
      ],
      "execution_count": 33,
      "outputs": []
    },
    {
      "cell_type": "code",
      "metadata": {
        "id": "45CObgvX3uBb"
      },
      "source": [
        "model = Sequential()\n",
        "model.add(Dense(units=30,activation='relu'))\n",
        "model.add(Dropout(0.5))\n",
        "model.add(Dense(units=15,activation='relu'))\n",
        "model.add(Dropout(0.5))\n",
        "model.add(Dense(units=1,activation='sigmoid'))\n",
        "model.compile(loss='binary_crossentropy', optimizer='adam')"
      ],
      "execution_count": 34,
      "outputs": []
    },
    {
      "cell_type": "code",
      "metadata": {
        "id": "DBTq32jw3xN0",
        "outputId": "4aa34c0c-4d58-4eca-f79a-e234c05b91a3",
        "colab": {
          "base_uri": "https://localhost:8080/",
          "height": 1000
        }
      },
      "source": [
        "model.fit(x=X_train, \n",
        "          y=y_train, \n",
        "          epochs=300,\n",
        "          validation_data=(X_test, y_test), verbose=1,\n",
        "          callbacks=[early_stop,board]\n",
        "          )"
      ],
      "execution_count": 35,
      "outputs": [
        {
          "output_type": "stream",
          "text": [
            "Epoch 1/300\n",
            " 1/14 [=>............................] - ETA: 0s - loss: 0.7197WARNING:tensorflow:Callbacks method `on_train_batch_end` is slow compared to the batch time (batch time: 0.0047s vs `on_train_batch_end` time: 0.0337s). Check your callbacks.\n",
            "14/14 [==============================] - 0s 14ms/step - loss: 0.6968 - val_loss: 0.6748\n",
            "Epoch 2/300\n",
            "14/14 [==============================] - 0s 4ms/step - loss: 0.6885 - val_loss: 0.6617\n",
            "Epoch 3/300\n",
            "14/14 [==============================] - 0s 4ms/step - loss: 0.6631 - val_loss: 0.6476\n",
            "Epoch 4/300\n",
            "14/14 [==============================] - 0s 4ms/step - loss: 0.6676 - val_loss: 0.6323\n",
            "Epoch 5/300\n",
            "14/14 [==============================] - 0s 4ms/step - loss: 0.6389 - val_loss: 0.6153\n",
            "Epoch 6/300\n",
            "14/14 [==============================] - 0s 4ms/step - loss: 0.6178 - val_loss: 0.5944\n",
            "Epoch 7/300\n",
            "14/14 [==============================] - 0s 5ms/step - loss: 0.6020 - val_loss: 0.5695\n",
            "Epoch 8/300\n",
            "14/14 [==============================] - 0s 4ms/step - loss: 0.5941 - val_loss: 0.5469\n",
            "Epoch 9/300\n",
            "14/14 [==============================] - 0s 4ms/step - loss: 0.5770 - val_loss: 0.5257\n",
            "Epoch 10/300\n",
            "14/14 [==============================] - 0s 4ms/step - loss: 0.5492 - val_loss: 0.4997\n",
            "Epoch 11/300\n",
            "14/14 [==============================] - 0s 4ms/step - loss: 0.5419 - val_loss: 0.4748\n",
            "Epoch 12/300\n",
            "14/14 [==============================] - 0s 4ms/step - loss: 0.5134 - val_loss: 0.4464\n",
            "Epoch 13/300\n",
            "14/14 [==============================] - 0s 4ms/step - loss: 0.5068 - val_loss: 0.4233\n",
            "Epoch 14/300\n",
            "14/14 [==============================] - 0s 4ms/step - loss: 0.4665 - val_loss: 0.3927\n",
            "Epoch 15/300\n",
            "14/14 [==============================] - 0s 4ms/step - loss: 0.4812 - val_loss: 0.3721\n",
            "Epoch 16/300\n",
            "14/14 [==============================] - 0s 4ms/step - loss: 0.4565 - val_loss: 0.3611\n",
            "Epoch 17/300\n",
            "14/14 [==============================] - 0s 4ms/step - loss: 0.4347 - val_loss: 0.3387\n",
            "Epoch 18/300\n",
            "14/14 [==============================] - 0s 4ms/step - loss: 0.4029 - val_loss: 0.3178\n",
            "Epoch 19/300\n",
            "14/14 [==============================] - 0s 4ms/step - loss: 0.3808 - val_loss: 0.2971\n",
            "Epoch 20/300\n",
            "14/14 [==============================] - 0s 4ms/step - loss: 0.4046 - val_loss: 0.2802\n",
            "Epoch 21/300\n",
            "14/14 [==============================] - 0s 4ms/step - loss: 0.3783 - val_loss: 0.2645\n",
            "Epoch 22/300\n",
            "14/14 [==============================] - 0s 5ms/step - loss: 0.3302 - val_loss: 0.2499\n",
            "Epoch 23/300\n",
            "14/14 [==============================] - 0s 4ms/step - loss: 0.3480 - val_loss: 0.2418\n",
            "Epoch 24/300\n",
            "14/14 [==============================] - 0s 4ms/step - loss: 0.3429 - val_loss: 0.2273\n",
            "Epoch 25/300\n",
            "14/14 [==============================] - 0s 4ms/step - loss: 0.3141 - val_loss: 0.2118\n",
            "Epoch 26/300\n",
            "14/14 [==============================] - 0s 4ms/step - loss: 0.3114 - val_loss: 0.1996\n",
            "Epoch 27/300\n",
            "14/14 [==============================] - 0s 4ms/step - loss: 0.2921 - val_loss: 0.1911\n",
            "Epoch 28/300\n",
            "14/14 [==============================] - 0s 4ms/step - loss: 0.2858 - val_loss: 0.1833\n",
            "Epoch 29/300\n",
            "14/14 [==============================] - 0s 4ms/step - loss: 0.2984 - val_loss: 0.1782\n",
            "Epoch 30/300\n",
            "14/14 [==============================] - 0s 4ms/step - loss: 0.2721 - val_loss: 0.1690\n",
            "Epoch 31/300\n",
            "14/14 [==============================] - 0s 4ms/step - loss: 0.2580 - val_loss: 0.1659\n",
            "Epoch 32/300\n",
            "14/14 [==============================] - 0s 4ms/step - loss: 0.2599 - val_loss: 0.1715\n",
            "Epoch 33/300\n",
            "14/14 [==============================] - 0s 4ms/step - loss: 0.2551 - val_loss: 0.1518\n",
            "Epoch 34/300\n",
            "14/14 [==============================] - 0s 4ms/step - loss: 0.2502 - val_loss: 0.1469\n",
            "Epoch 35/300\n",
            "14/14 [==============================] - 0s 4ms/step - loss: 0.2521 - val_loss: 0.1472\n",
            "Epoch 36/300\n",
            "14/14 [==============================] - 0s 4ms/step - loss: 0.2493 - val_loss: 0.1530\n",
            "Epoch 37/300\n",
            "14/14 [==============================] - 0s 4ms/step - loss: 0.2556 - val_loss: 0.1443\n",
            "Epoch 38/300\n",
            "14/14 [==============================] - 0s 5ms/step - loss: 0.2379 - val_loss: 0.1412\n",
            "Epoch 39/300\n",
            "14/14 [==============================] - 0s 4ms/step - loss: 0.2156 - val_loss: 0.1316\n",
            "Epoch 40/300\n",
            "14/14 [==============================] - 0s 4ms/step - loss: 0.2356 - val_loss: 0.1408\n",
            "Epoch 41/300\n",
            "14/14 [==============================] - 0s 4ms/step - loss: 0.2224 - val_loss: 0.1372\n",
            "Epoch 42/300\n",
            "14/14 [==============================] - 0s 4ms/step - loss: 0.2349 - val_loss: 0.1261\n",
            "Epoch 43/300\n",
            "14/14 [==============================] - 0s 4ms/step - loss: 0.2310 - val_loss: 0.1247\n",
            "Epoch 44/300\n",
            "14/14 [==============================] - 0s 4ms/step - loss: 0.1896 - val_loss: 0.1404\n",
            "Epoch 45/300\n",
            "14/14 [==============================] - 0s 4ms/step - loss: 0.2061 - val_loss: 0.1224\n",
            "Epoch 46/300\n",
            "14/14 [==============================] - 0s 4ms/step - loss: 0.1821 - val_loss: 0.1166\n",
            "Epoch 47/300\n",
            "14/14 [==============================] - 0s 4ms/step - loss: 0.1947 - val_loss: 0.1174\n",
            "Epoch 48/300\n",
            "14/14 [==============================] - 0s 4ms/step - loss: 0.1823 - val_loss: 0.1150\n",
            "Epoch 49/300\n",
            "14/14 [==============================] - 0s 4ms/step - loss: 0.1779 - val_loss: 0.1093\n",
            "Epoch 50/300\n",
            "14/14 [==============================] - 0s 4ms/step - loss: 0.1818 - val_loss: 0.1115\n",
            "Epoch 51/300\n",
            "14/14 [==============================] - 0s 4ms/step - loss: 0.1673 - val_loss: 0.1103\n",
            "Epoch 52/300\n",
            "14/14 [==============================] - 0s 4ms/step - loss: 0.2098 - val_loss: 0.1100\n",
            "Epoch 53/300\n",
            "14/14 [==============================] - 0s 4ms/step - loss: 0.1735 - val_loss: 0.1204\n",
            "Epoch 54/300\n",
            "14/14 [==============================] - 0s 4ms/step - loss: 0.1823 - val_loss: 0.1115\n",
            "Epoch 55/300\n",
            "14/14 [==============================] - 0s 4ms/step - loss: 0.1603 - val_loss: 0.1027\n",
            "Epoch 56/300\n",
            "14/14 [==============================] - 0s 4ms/step - loss: 0.1600 - val_loss: 0.1052\n",
            "Epoch 57/300\n",
            "14/14 [==============================] - 0s 5ms/step - loss: 0.1759 - val_loss: 0.1136\n",
            "Epoch 58/300\n",
            "14/14 [==============================] - 0s 4ms/step - loss: 0.1571 - val_loss: 0.1126\n",
            "Epoch 59/300\n",
            "14/14 [==============================] - 0s 4ms/step - loss: 0.1422 - val_loss: 0.1001\n",
            "Epoch 60/300\n",
            "14/14 [==============================] - 0s 4ms/step - loss: 0.1449 - val_loss: 0.0954\n",
            "Epoch 61/300\n",
            "14/14 [==============================] - 0s 4ms/step - loss: 0.1619 - val_loss: 0.1009\n",
            "Epoch 62/300\n",
            "14/14 [==============================] - 0s 4ms/step - loss: 0.1448 - val_loss: 0.1011\n",
            "Epoch 63/300\n",
            "14/14 [==============================] - 0s 4ms/step - loss: 0.1394 - val_loss: 0.0996\n",
            "Epoch 64/300\n",
            "14/14 [==============================] - 0s 4ms/step - loss: 0.1591 - val_loss: 0.1010\n",
            "Epoch 65/300\n",
            "14/14 [==============================] - 0s 4ms/step - loss: 0.1214 - val_loss: 0.0946\n",
            "Epoch 66/300\n",
            "14/14 [==============================] - 0s 4ms/step - loss: 0.1485 - val_loss: 0.0961\n",
            "Epoch 67/300\n",
            "14/14 [==============================] - 0s 4ms/step - loss: 0.1635 - val_loss: 0.0984\n",
            "Epoch 68/300\n",
            "14/14 [==============================] - 0s 5ms/step - loss: 0.1353 - val_loss: 0.0959\n",
            "Epoch 69/300\n",
            "14/14 [==============================] - 0s 5ms/step - loss: 0.1511 - val_loss: 0.0947\n",
            "Epoch 70/300\n",
            "14/14 [==============================] - 0s 4ms/step - loss: 0.1159 - val_loss: 0.0895\n",
            "Epoch 71/300\n",
            "14/14 [==============================] - 0s 4ms/step - loss: 0.1538 - val_loss: 0.0909\n",
            "Epoch 72/300\n",
            "14/14 [==============================] - 0s 4ms/step - loss: 0.1418 - val_loss: 0.1012\n",
            "Epoch 73/300\n",
            "14/14 [==============================] - 0s 5ms/step - loss: 0.1306 - val_loss: 0.1002\n",
            "Epoch 74/300\n",
            "14/14 [==============================] - 0s 4ms/step - loss: 0.1255 - val_loss: 0.0888\n",
            "Epoch 75/300\n",
            "14/14 [==============================] - 0s 4ms/step - loss: 0.1357 - val_loss: 0.0932\n",
            "Epoch 76/300\n",
            "14/14 [==============================] - 0s 4ms/step - loss: 0.1285 - val_loss: 0.0949\n",
            "Epoch 77/300\n",
            "14/14 [==============================] - 0s 5ms/step - loss: 0.1341 - val_loss: 0.0942\n",
            "Epoch 78/300\n",
            "14/14 [==============================] - 0s 4ms/step - loss: 0.1329 - val_loss: 0.0944\n",
            "Epoch 79/300\n",
            "14/14 [==============================] - 0s 4ms/step - loss: 0.1381 - val_loss: 0.0913\n",
            "Epoch 80/300\n",
            "14/14 [==============================] - 0s 4ms/step - loss: 0.1421 - val_loss: 0.0865\n",
            "Epoch 81/300\n",
            "14/14 [==============================] - 0s 4ms/step - loss: 0.1285 - val_loss: 0.0890\n",
            "Epoch 82/300\n",
            "14/14 [==============================] - 0s 4ms/step - loss: 0.1294 - val_loss: 0.0953\n",
            "Epoch 83/300\n",
            "14/14 [==============================] - 0s 4ms/step - loss: 0.1114 - val_loss: 0.0848\n",
            "Epoch 84/300\n",
            "14/14 [==============================] - 0s 4ms/step - loss: 0.1152 - val_loss: 0.0839\n",
            "Epoch 85/300\n",
            "14/14 [==============================] - 0s 5ms/step - loss: 0.1313 - val_loss: 0.0945\n",
            "Epoch 86/300\n",
            "14/14 [==============================] - 0s 5ms/step - loss: 0.1123 - val_loss: 0.0850\n",
            "Epoch 87/300\n",
            "14/14 [==============================] - 0s 5ms/step - loss: 0.1228 - val_loss: 0.0871\n",
            "Epoch 88/300\n",
            "14/14 [==============================] - 0s 4ms/step - loss: 0.1133 - val_loss: 0.0910\n",
            "Epoch 89/300\n",
            "14/14 [==============================] - 0s 5ms/step - loss: 0.1112 - val_loss: 0.0848\n",
            "Epoch 90/300\n",
            "14/14 [==============================] - 0s 4ms/step - loss: 0.1153 - val_loss: 0.0782\n",
            "Epoch 91/300\n",
            "14/14 [==============================] - 0s 4ms/step - loss: 0.1208 - val_loss: 0.0893\n",
            "Epoch 92/300\n",
            "14/14 [==============================] - 0s 4ms/step - loss: 0.1119 - val_loss: 0.0882\n",
            "Epoch 93/300\n",
            "14/14 [==============================] - 0s 4ms/step - loss: 0.1327 - val_loss: 0.0765\n",
            "Epoch 94/300\n",
            "14/14 [==============================] - 0s 4ms/step - loss: 0.1174 - val_loss: 0.0867\n",
            "Epoch 95/300\n",
            "14/14 [==============================] - 0s 4ms/step - loss: 0.1006 - val_loss: 0.0983\n",
            "Epoch 96/300\n",
            "14/14 [==============================] - 0s 4ms/step - loss: 0.1046 - val_loss: 0.0929\n",
            "Epoch 97/300\n",
            "14/14 [==============================] - 0s 4ms/step - loss: 0.1169 - val_loss: 0.1008\n",
            "Epoch 98/300\n",
            "14/14 [==============================] - 0s 4ms/step - loss: 0.1123 - val_loss: 0.0838\n",
            "Epoch 99/300\n",
            "14/14 [==============================] - 0s 5ms/step - loss: 0.1116 - val_loss: 0.0823\n",
            "Epoch 100/300\n",
            "14/14 [==============================] - 0s 4ms/step - loss: 0.1009 - val_loss: 0.0911\n",
            "Epoch 101/300\n",
            "14/14 [==============================] - 0s 5ms/step - loss: 0.0951 - val_loss: 0.0993\n",
            "Epoch 102/300\n",
            "14/14 [==============================] - 0s 4ms/step - loss: 0.1270 - val_loss: 0.0783\n",
            "Epoch 103/300\n",
            "14/14 [==============================] - 0s 4ms/step - loss: 0.1025 - val_loss: 0.0797\n",
            "Epoch 104/300\n",
            "14/14 [==============================] - 0s 4ms/step - loss: 0.0943 - val_loss: 0.0903\n",
            "Epoch 105/300\n",
            "14/14 [==============================] - 0s 4ms/step - loss: 0.1147 - val_loss: 0.0935\n",
            "Epoch 106/300\n",
            "14/14 [==============================] - 0s 4ms/step - loss: 0.1206 - val_loss: 0.0831\n",
            "Epoch 107/300\n",
            "14/14 [==============================] - 0s 4ms/step - loss: 0.1158 - val_loss: 0.0777\n",
            "Epoch 108/300\n",
            "14/14 [==============================] - 0s 4ms/step - loss: 0.0969 - val_loss: 0.0802\n",
            "Epoch 109/300\n",
            "14/14 [==============================] - 0s 5ms/step - loss: 0.1077 - val_loss: 0.0831\n",
            "Epoch 110/300\n",
            "14/14 [==============================] - 0s 5ms/step - loss: 0.1119 - val_loss: 0.0900\n",
            "Epoch 111/300\n",
            "14/14 [==============================] - 0s 4ms/step - loss: 0.0999 - val_loss: 0.0849\n",
            "Epoch 112/300\n",
            "14/14 [==============================] - 0s 5ms/step - loss: 0.1027 - val_loss: 0.0780\n",
            "Epoch 113/300\n",
            "14/14 [==============================] - 0s 4ms/step - loss: 0.1022 - val_loss: 0.0821\n",
            "Epoch 114/300\n",
            "14/14 [==============================] - 0s 5ms/step - loss: 0.1283 - val_loss: 0.1047\n",
            "Epoch 115/300\n",
            "14/14 [==============================] - 0s 4ms/step - loss: 0.0787 - val_loss: 0.0907\n",
            "Epoch 116/300\n",
            "14/14 [==============================] - 0s 4ms/step - loss: 0.0993 - val_loss: 0.0763\n",
            "Epoch 117/300\n",
            "14/14 [==============================] - 0s 5ms/step - loss: 0.0932 - val_loss: 0.0959\n",
            "Epoch 118/300\n",
            "14/14 [==============================] - 0s 4ms/step - loss: 0.1024 - val_loss: 0.0858\n",
            "Epoch 119/300\n",
            "14/14 [==============================] - 0s 5ms/step - loss: 0.1157 - val_loss: 0.0879\n",
            "Epoch 120/300\n",
            "14/14 [==============================] - 0s 5ms/step - loss: 0.0914 - val_loss: 0.0851\n",
            "Epoch 121/300\n",
            "14/14 [==============================] - 0s 5ms/step - loss: 0.0995 - val_loss: 0.0755\n",
            "Epoch 122/300\n",
            "14/14 [==============================] - 0s 4ms/step - loss: 0.1085 - val_loss: 0.0965\n",
            "Epoch 123/300\n",
            "14/14 [==============================] - 0s 4ms/step - loss: 0.0876 - val_loss: 0.0841\n",
            "Epoch 124/300\n",
            "14/14 [==============================] - 0s 5ms/step - loss: 0.1044 - val_loss: 0.0939\n",
            "Epoch 125/300\n",
            "14/14 [==============================] - 0s 4ms/step - loss: 0.1102 - val_loss: 0.0951\n",
            "Epoch 126/300\n",
            "14/14 [==============================] - 0s 4ms/step - loss: 0.1138 - val_loss: 0.0817\n",
            "Epoch 127/300\n",
            "14/14 [==============================] - 0s 4ms/step - loss: 0.0994 - val_loss: 0.0855\n",
            "Epoch 128/300\n",
            "14/14 [==============================] - 0s 4ms/step - loss: 0.0789 - val_loss: 0.0967\n",
            "Epoch 129/300\n",
            "14/14 [==============================] - 0s 4ms/step - loss: 0.1086 - val_loss: 0.0804\n",
            "Epoch 130/300\n",
            "14/14 [==============================] - 0s 5ms/step - loss: 0.1019 - val_loss: 0.0847\n",
            "Epoch 131/300\n",
            "14/14 [==============================] - 0s 4ms/step - loss: 0.1052 - val_loss: 0.0942\n",
            "Epoch 132/300\n",
            "14/14 [==============================] - 0s 4ms/step - loss: 0.0881 - val_loss: 0.0803\n",
            "Epoch 133/300\n",
            "14/14 [==============================] - 0s 4ms/step - loss: 0.1059 - val_loss: 0.0945\n",
            "Epoch 134/300\n",
            "14/14 [==============================] - 0s 4ms/step - loss: 0.0862 - val_loss: 0.0778\n",
            "Epoch 135/300\n",
            "14/14 [==============================] - 0s 4ms/step - loss: 0.1091 - val_loss: 0.0839\n",
            "Epoch 136/300\n",
            "14/14 [==============================] - 0s 4ms/step - loss: 0.0957 - val_loss: 0.0789\n",
            "Epoch 137/300\n",
            "14/14 [==============================] - 0s 4ms/step - loss: 0.0972 - val_loss: 0.1040\n",
            "Epoch 138/300\n",
            "14/14 [==============================] - 0s 4ms/step - loss: 0.0803 - val_loss: 0.0979\n",
            "Epoch 139/300\n",
            "14/14 [==============================] - 0s 4ms/step - loss: 0.0692 - val_loss: 0.1039\n",
            "Epoch 140/300\n",
            "14/14 [==============================] - 0s 4ms/step - loss: 0.0879 - val_loss: 0.0805\n",
            "Epoch 141/300\n",
            "14/14 [==============================] - 0s 4ms/step - loss: 0.0936 - val_loss: 0.0770\n",
            "Epoch 142/300\n",
            "14/14 [==============================] - 0s 4ms/step - loss: 0.0856 - val_loss: 0.0930\n",
            "Epoch 143/300\n",
            "14/14 [==============================] - 0s 4ms/step - loss: 0.0992 - val_loss: 0.0951\n",
            "Epoch 144/300\n",
            "14/14 [==============================] - 0s 5ms/step - loss: 0.1051 - val_loss: 0.0792\n",
            "Epoch 145/300\n",
            "14/14 [==============================] - 0s 4ms/step - loss: 0.0817 - val_loss: 0.0996\n",
            "Epoch 146/300\n",
            "14/14 [==============================] - 0s 4ms/step - loss: 0.1136 - val_loss: 0.0883\n",
            "Epoch 00146: early stopping\n"
          ],
          "name": "stdout"
        },
        {
          "output_type": "execute_result",
          "data": {
            "text/plain": [
              "<tensorflow.python.keras.callbacks.History at 0x7f00e478f2e8>"
            ]
          },
          "metadata": {
            "tags": []
          },
          "execution_count": 35
        }
      ]
    },
    {
      "cell_type": "code",
      "metadata": {
        "id": "W5sWhV_h9w6x"
      },
      "source": [
        ""
      ],
      "execution_count": null,
      "outputs": []
    }
  ]
}